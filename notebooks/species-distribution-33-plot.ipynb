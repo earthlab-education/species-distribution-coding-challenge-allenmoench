{
  "cells": [
    {
      "cell_type": "markdown",
      "id": "3cba5616-2fbb-4b00-81fd-de83b5537b75",
      "metadata": {},
      "source": [
        "# STEP 5: Plot the Veery observations by month\n",
        "\n",
        "First thing first – let’s load your stored variables and import\n",
        "libraries."
      ]
    },
    {
      "cell_type": "code",
      "execution_count": 6,
      "id": "9ce8bde4",
      "metadata": {},
      "outputs": [],
      "source": [
        "%store -r"
      ]
    },
    {
      "cell_type": "markdown",
      "id": "e0c8ea75-c0a5-4023-b201-58a2b54a58b6",
      "metadata": {},
      "source": [
        "<link rel=\"stylesheet\" type=\"text/css\" href=\"./assets/styles.css\"><div class=\"callout callout-style-default callout-titled callout-task\"><div class=\"callout-header\"><div class=\"callout-icon-container\"><i class=\"callout-icon\"></i></div><div class=\"callout-title-container flex-fill\">Try It: Import packages</div></div><div class=\"callout-body-container callout-body\"><p>In the imports cell, we’ve included some packages that you will need.\n",
        "Add imports for packages that will help you:</p>\n",
        "<ol type=\"1\">\n",
        "<li>Make interactive maps with vector data</li>\n",
        "</ol></div></div>"
      ]
    },
    {
      "cell_type": "code",
      "execution_count": 7,
      "id": "cc212b7d",
      "metadata": {
        "highlight": true
      },
      "outputs": [],
      "source": [
        "# Get month names\n",
        "import calendar\n",
        "\n",
        "# Libraries for Dynamic mapping\n",
        "import cartopy.crs as ccrs\n",
        "import geoviews as gv\n",
        "import hvplot.pandas\n",
        "import panel as pn\n"
      ]
    },
    {
      "cell_type": "markdown",
      "id": "a1a7727b-b7f7-4768-9c39-2058de7226fc",
      "metadata": {},
      "source": [
        "### Create a simplified `GeoDataFrame` for plotting\n",
        "\n",
        "Plotting larger files can be time consuming. The code below will\n",
        "streamline plotting with `hvplot` by simplifying the geometry,\n",
        "projecting it to a Mercator projection that is compatible with\n",
        "`geoviews`, and cropping off areas in the Arctic.\n",
        "\n",
        "<link rel=\"stylesheet\" type=\"text/css\" href=\"./assets/styles.css\"><div class=\"callout callout-style-default callout-titled callout-task\"><div class=\"callout-header\"><div class=\"callout-icon-container\"><i class=\"callout-icon\"></i></div><div class=\"callout-title-container flex-fill\">Try It: Simplify ecoregion data</div></div><div class=\"callout-body-container callout-body\"><p>Download and save ecoregion boundaries from the EPA:</p>\n",
        "<ol type=\"1\">\n",
        "<li>Simplify the ecoregions with <code>.simplify(.05)</code>, and save\n",
        "it back to the <code>geometry</code> column.</li>\n",
        "<li>Change the Coordinate Reference System (CRS) to Mercator with\n",
        "<code>.to_crs(ccrs.Mercator())</code></li>\n",
        "<li>Use the plotting code that is already in the cell to check that the\n",
        "plotting runs quickly (less than a minute) and looks the way you want,\n",
        "making sure to change <code>gdf</code> to YOUR <code>GeoDataFrame</code>\n",
        "name.</li>\n",
        "</ol></div></div>"
      ]
    },
    {
      "cell_type": "code",
      "execution_count": 8,
      "id": "50e71d7d",
      "metadata": {
        "highlight": true
      },
      "outputs": [
        {
          "name": "stdout",
          "output_type": "stream",
          "text": [
            "Unexpected exception formatting exception. Falling back to standard exception\n"
          ]
        },
        {
          "name": "stderr",
          "output_type": "stream",
          "text": [
            "Traceback (most recent call last):\n",
            "  File \"/opt/conda/lib/python3.10/site-packages/IPython/core/formatters.py\", line 223, in catch_format_error\n",
            "    r = method(self, *args, **kwargs)\n",
            "  File \"/opt/conda/lib/python3.10/site-packages/IPython/core/formatters.py\", line 974, in __call__\n",
            "    return method(include=include, exclude=exclude)\n",
            "  File \"/opt/conda/lib/python3.10/site-packages/holoviews/core/dimension.py\", line 1287, in _repr_mimebundle_\n",
            "    return Store.render(self)\n",
            "  File \"/opt/conda/lib/python3.10/site-packages/holoviews/core/options.py\", line 1423, in render\n",
            "    ret = hook(obj)\n",
            "  File \"/opt/conda/lib/python3.10/site-packages/holoviews/ipython/display_hooks.py\", line 280, in pprint_display\n",
            "    return display(obj, raw_output=True)\n",
            "  File \"/opt/conda/lib/python3.10/site-packages/holoviews/ipython/display_hooks.py\", line 248, in display\n",
            "    output = element_display(obj)\n",
            "  File \"/opt/conda/lib/python3.10/site-packages/holoviews/ipython/display_hooks.py\", line 142, in wrapped\n",
            "    mimebundle = fn(element, max_frames=max_frames)\n",
            "  File \"/opt/conda/lib/python3.10/site-packages/holoviews/ipython/display_hooks.py\", line 188, in element_display\n",
            "    return render(element)\n",
            "  File \"/opt/conda/lib/python3.10/site-packages/holoviews/ipython/display_hooks.py\", line 69, in render\n",
            "    return renderer.components(obj, **kwargs)\n",
            "  File \"/opt/conda/lib/python3.10/site-packages/holoviews/plotting/renderer.py\", line 397, in components\n",
            "    return self._render_panel(plot, embed, comm)\n",
            "  File \"/opt/conda/lib/python3.10/site-packages/holoviews/plotting/renderer.py\", line 404, in _render_panel\n",
            "    model = plot.layout._render_model(doc, comm)\n",
            "  File \"/opt/conda/lib/python3.10/site-packages/panel/viewable.py\", line 736, in _render_model\n",
            "    if doc is None:\n",
            "  File \"/opt/conda/lib/python3.10/site-packages/panel/layout/base.py\", line 305, in get_root\n",
            "    op_heights.append(properties['max_height'])\n",
            "  File \"/opt/conda/lib/python3.10/site-packages/panel/viewable.py\", line 658, in get_root\n",
            "    comm: pyviz_comms.Comm\n",
            "  File \"/opt/conda/lib/python3.10/site-packages/panel/layout/base.py\", line 173, in _get_model\n",
            "  File \"/opt/conda/lib/python3.10/site-packages/panel/layout/base.py\", line 155, in _get_objects\n",
            "    obj._cleanup(root)\n",
            "  File \"/opt/conda/lib/python3.10/site-packages/panel/layout/spacer.py\", line 38, in _get_model\n",
            "    model = self._bokeh_model(**self._get_properties(doc))\n",
            "  File \"/opt/conda/lib/python3.10/site-packages/panel/reactive.py\", line 711, in _get_properties\n",
            "    ) -> Watcher:\n",
            "  File \"/opt/conda/lib/python3.10/site-packages/panel/reactive.py\", line 193, in _process_param_change\n",
            "    property names.\n",
            "  File \"/opt/conda/lib/python3.10/site-packages/panel/io/resources.py\", line 175, in loading_css\n",
            "    return _settings.resources(default=\"server\") != 'server'\n",
            "FileNotFoundError: [Errno 2] No such file or directory: '/opt/conda/lib/python3.10/site-packages/panel/assets/arc_spinner.svg'\n",
            "\n",
            "During handling of the above exception, another exception occurred:\n",
            "\n",
            "Traceback (most recent call last):\n",
            "  File \"/opt/conda/lib/python3.10/site-packages/IPython/core/interactiveshell.py\", line 2120, in showtraceback\n",
            "    stb = self.InteractiveTB.structured_traceback(\n",
            "  File \"/opt/conda/lib/python3.10/site-packages/IPython/core/ultratb.py\", line 1435, in structured_traceback\n",
            "    return FormattedTB.structured_traceback(\n",
            "  File \"/opt/conda/lib/python3.10/site-packages/IPython/core/ultratb.py\", line 1326, in structured_traceback\n",
            "    return VerboseTB.structured_traceback(\n",
            "  File \"/opt/conda/lib/python3.10/site-packages/IPython/core/ultratb.py\", line 1173, in structured_traceback\n",
            "    formatted_exception = self.format_exception_as_a_whole(etype, evalue, etb, number_of_lines_of_context,\n",
            "  File \"/opt/conda/lib/python3.10/site-packages/IPython/core/ultratb.py\", line 1088, in format_exception_as_a_whole\n",
            "    frames.append(self.format_record(record))\n",
            "  File \"/opt/conda/lib/python3.10/site-packages/IPython/core/ultratb.py\", line 970, in format_record\n",
            "    frame_info.lines, Colors, self.has_colors, lvals\n",
            "  File \"/opt/conda/lib/python3.10/site-packages/IPython/core/ultratb.py\", line 792, in lines\n",
            "    return self._sd.lines\n",
            "  File \"/opt/conda/lib/python3.10/site-packages/stack_data/utils.py\", line 144, in cached_property_wrapper\n",
            "    value = obj.__dict__[self.func.__name__] = self.func(obj)\n",
            "  File \"/opt/conda/lib/python3.10/site-packages/stack_data/core.py\", line 734, in lines\n",
            "    pieces = self.included_pieces\n",
            "  File \"/opt/conda/lib/python3.10/site-packages/stack_data/utils.py\", line 144, in cached_property_wrapper\n",
            "    value = obj.__dict__[self.func.__name__] = self.func(obj)\n",
            "  File \"/opt/conda/lib/python3.10/site-packages/stack_data/core.py\", line 681, in included_pieces\n",
            "    pos = scope_pieces.index(self.executing_piece)\n",
            "  File \"/opt/conda/lib/python3.10/site-packages/stack_data/utils.py\", line 144, in cached_property_wrapper\n",
            "    value = obj.__dict__[self.func.__name__] = self.func(obj)\n",
            "  File \"/opt/conda/lib/python3.10/site-packages/stack_data/core.py\", line 660, in executing_piece\n",
            "    return only(\n",
            "  File \"/opt/conda/lib/python3.10/site-packages/executing/executing.py\", line 190, in only\n",
            "    raise NotOneValueFound('Expected one value, found 0')\n",
            "executing.executing.NotOneValueFound: Expected one value, found 0\n"
          ]
        },
        {
          "data": {
            "text/plain": [
              ":Polygons   [Longitude,Latitude]"
            ]
          },
          "execution_count": 8,
          "metadata": {},
          "output_type": "execute_result"
        }
      ],
      "source": [
        "# Simplify the geometry to speed up processing\n",
        "eco_gdf.geometry = eco_gdf.simplify(.1, preserve_topology=False)\n",
        "\n",
        "# Change the CRS to Mercator for mapping\n",
        "eco_gdf.to_crs(ccrs.Mercator())\n",
        "\n",
        "# Check that the plot runs in a reasonable amount of time\n",
        "eco_gdf.hvplot(geo=True, crs=ccrs.Mercator())"
      ]
    },
    {
      "cell_type": "markdown",
      "id": "5547133a-c8bd-4616-82e8-c90f86b01f31",
      "metadata": {},
      "source": [
        "<link rel=\"stylesheet\" type=\"text/css\" href=\"./assets/styles.css\"><div class=\"callout callout-style-default callout-titled callout-task\"><div class=\"callout-header\"><div class=\"callout-icon-container\"><i class=\"callout-icon\"></i></div><div class=\"callout-title-container flex-fill\">Try It: Map migration over time</div></div><div class=\"callout-body-container callout-body\"><ol type=\"1\">\n",
        "<li>If applicable, replace any variable names with the names you defined\n",
        "previously.</li>\n",
        "<li>Replace <code>column_name_used_for_ecoregion_color</code> and\n",
        "<code>column_name_used_for_slider</code> with the column names you wish\n",
        "to use.</li>\n",
        "<li>Customize your plot with your choice of title, tile source, color\n",
        "map, and size.</li>\n",
        "</ol>\n",
        "<div data-__quarto_custom=\"true\" data-__quarto_custom_type=\"Callout\"\n",
        "data-__quarto_custom_context=\"Block\" data-__quarto_custom_id=\"3\">\n",
        "<div data-__quarto_custom_scaffold=\"true\">\n",
        "\n",
        "</div>\n",
        "<div data-__quarto_custom_scaffold=\"true\">\n",
        "<p>Your plot will probably still change months very slowly in your\n",
        "Jupyter notebook, because it calculates each month’s plot as needed.\n",
        "Open up the saved HTML file to see faster performance!</p>\n",
        "</div>\n",
        "</div></div></div>"
      ]
    },
    {
      "cell_type": "code",
      "execution_count": 4,
      "id": "0bdd7be7",
      "metadata": {
        "highlight": true
      },
      "outputs": [
        {
          "ename": "NameError",
          "evalue": "name 'ecoregions_gdf' is not defined",
          "output_type": "error",
          "traceback": [
            "\u001b[0;31m---------------------------------------------------------------------------\u001b[0m",
            "\u001b[0;31mNameError\u001b[0m                                 Traceback (most recent call last)",
            "Cell \u001b[0;32mIn[4], line 2\u001b[0m\n\u001b[1;32m      1\u001b[0m \u001b[38;5;66;03m# Join the occurrences with the plotting GeoDataFrame\u001b[39;00m\n\u001b[0;32m----> 2\u001b[0m occurrence_gdf \u001b[38;5;241m=\u001b[39m \u001b[43mecoregions_gdf\u001b[49m\u001b[38;5;241m.\u001b[39mjoin(occurrence_df)\n\u001b[1;32m      4\u001b[0m \u001b[38;5;66;03m# Get the plot bounds so they don't change with the slider\u001b[39;00m\n\u001b[1;32m      5\u001b[0m xmin, ymin, xmax, ymax \u001b[38;5;241m=\u001b[39m occurrence_gdf\u001b[38;5;241m.\u001b[39mtotal_bounds\n",
            "\u001b[0;31mNameError\u001b[0m: name 'ecoregions_gdf' is not defined"
          ]
        }
      ],
      "source": [
        "# Join the occurrences with the plotting GeoDataFrame\n",
        "occurrence_gdf = ecoregions_gdf.join(occurrence_df)\n",
        "\n",
        "# Get the plot bounds so they don't change with the slider\n",
        "xmin, ymin, xmax, ymax = occurrence_gdf.total_bounds\n",
        "\n",
        "# Plot occurrence by ecoregion and month\n",
        "migration_plot = (\n",
        "    occurrence_gdf\n",
        "    .hvplot(\n",
        "        c=column_name_used_for_shape_color,\n",
        "        groupby=column_name_used_for_slider,\n",
        "        # Use background tiles\n",
        "        geo=True, crs=ccrs.Mercator(), tiles='CartoLight',\n",
        "        title=\"Your Title Here\",\n",
        "        xlim=(xmin, xmax), ylim=(ymin, ymax),\n",
        "        frame_height=600,\n",
        "        widget_location='bottom'\n",
        "    )\n",
        ")\n",
        "\n",
        "# Save the plot\n",
        "migration_plot.save('migration.html', embed=True)\n",
        "\n",
        "# Show the plot\n",
        "migration_plot"
      ]
    },
    {
      "cell_type": "markdown",
      "id": "97593f63-5d62-4557-820a-a8210f45c7a4",
      "metadata": {},
      "source": [
        "<link rel=\"stylesheet\" type=\"text/css\" href=\"./assets/styles.css\"><div class=\"callout callout-style-default callout-titled callout-extra\"><div class=\"callout-header\"><div class=\"callout-icon-container\"><i class=\"callout-icon\"></i></div><div class=\"callout-title-container flex-fill\">Looking for an Extra Challenge?: Fix the month labels</div></div><div class=\"callout-body-container callout-body\"><p>Notice that the <code>month</code> slider displays numbers instead of\n",
        "the month name. Use <code>pn.widgets.DiscreteSlider()</code> with the\n",
        "<code>options=</code> parameter set to give the months names. You might\n",
        "want to try asking ChatGPT how to do this, or look at the documentation\n",
        "for <code>pn.widgets.DiscreteSlider()</code>. This is pretty tricky!</p></div></div>"
      ]
    }
  ],
  "metadata": {
    "kernelspec": {
      "display_name": "base",
      "language": "python",
      "name": "python3"
    },
    "language_info": {
      "codemirror_mode": {
        "name": "ipython",
        "version": 3
      },
      "file_extension": ".py",
      "mimetype": "text/x-python",
      "name": "python",
      "nbconvert_exporter": "python",
      "pygments_lexer": "ipython3",
      "version": "3.10.11"
    }
  },
  "nbformat": 4,
  "nbformat_minor": 5
}
