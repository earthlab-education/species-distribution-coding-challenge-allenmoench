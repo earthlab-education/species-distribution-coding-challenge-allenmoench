{
  "cells": [
    {
      "cell_type": "markdown",
      "id": "b7e7dc48-3ce6-452d-bd75-09fca2f00c2b",
      "metadata": {},
      "source": [
        "# \n",
        "\n",
        "<link rel=\"stylesheet\" type=\"text/css\" href=\"./assets/styles.css\"><div class=\"callout callout-style-default callout-titled callout-response\"><div class=\"callout-header\"><div class=\"callout-icon-container\"><i class=\"callout-icon\"></i></div><div class=\"callout-title-container flex-fill\">What can we learn from migration patterns?</div></div><div class=\"callout-body-container callout-body\"><p>In the cell below, reflect on what you know about migration. You\n",
        "could consider:</p>\n",
        "<ol type=\"1\">\n",
        "<li>What are some reasons that animals migrate?</li>\n",
        "<li>How might climate change affect animal migrations?</li>\n",
        "<li>Do you notice any animal migrations in your area?</li>\n",
        "</ol></div></div>"
      ]
    },
    {
      "cell_type": "markdown",
      "id": "09ea9f1d-2434-41ec-9d7b-65eb3153d6d6",
      "metadata": {},
      "source": [
        "YOUR ANSWER HERE"
      ]
    },
    {
      "cell_type": "markdown",
      "id": "a7ab2f24",
      "metadata": {},
      "source": [
        "*What are some reasons that animals migrate?*\n",
        "\n",
        "A few reasons animals migrate include environmental reasons and reasons relating to their life cycle. Many animals in the northern hemisphere migrate south in the winter and north in the summer, for example. Many animals also migrate to mate, lay eggs, raise offspring, or satisfy some other aspect of their reproductive cycle. \n",
        "\n",
        "*How might climate change affect animal migrations?*\n",
        "\n",
        "Climate change causes many alterations to environmental systems, which could throw off migration patterns in numerous and potentially unexpected ways. Some animals might be affected directly by temperature, for example if they typically migrate north to find cooler climates in the summer, they might have to migrate further north to find the same comfortable temperatures. Other creatures might change their migration patterns in ways that are less predictable. For example, if the patterns of ocean currents are altered by added fresh water from polar ice melt, migration routes of a wide variety of different creatures might be affected.\n",
        "\n",
        "*Do you notice any animal migrations in your area?*\n",
        "\n",
        "In Boulder, CO there are a number of migratory animals that pass through the area. Canada geese and monarch butterflies are two examples - the geese migrate north and south with the change of the seasons, and the monarchs make a multi-generational journey to Mexico as part of their mating and life cycle. I believe many of Colorado’s ruminants - elk, deer, moose, and mountain goats - also migrate north and south with the seasons, although I don’t know the details of the routes they use."
      ]
    }
  ],
  "metadata": {
    "kernelspec": {
      "display_name": "Python 3",
      "language": "python",
      "name": "python3"
    }
  },
  "nbformat": 4,
  "nbformat_minor": 5
}
